{
 "cells": [
  {
   "cell_type": "code",
   "execution_count": 5,
   "id": "dea6b14c-f507-47f6-93bc-b7669943e974",
   "metadata": {},
   "outputs": [
    {
     "name": "stderr",
     "output_type": "stream",
     "text": [
      "<frozen importlib._bootstrap>:219: RuntimeWarning: scipy._lib.messagestream.MessageStream size changed, may indicate binary incompatibility. Expected 56 from C header, got 64 from PyObject\n"
     ]
    }
   ],
   "source": [
    "from qiskit.aqua.algorithms import VQE, NumPyEigensolver\n",
    "import matplotlib.pyplot as plt\n",
    "import numpy as np\n",
    "from qiskit.chemistry.components.variational_forms import UCCSD\n",
    "from qiskit.chemistry.components.initial_states import HartreeFock\n",
    "from qiskit.circuit.library import EfficientSU2\n",
    "from qiskit.aqua.components.optimizers import COBYLA, SPSA, SLSQP\n",
    "from qiskit.aqua.operators import Z2Symmetries\n",
    "from qiskit import IBMQ, BasicAer, Aer\n",
    "from qiskit.chemistry.drivers import PySCFDriver, UnitsType\n",
    "from qiskit.chemistry import FermionicOperator\n",
    "from qiskit.aqua import QuantumInstance\n",
    "from qiskit.ignis.mitigation.measurement import CompleteMeasFitter\n",
    "from qiskit.providers.aer.noise import NoiseModel"
   ]
  },
  {
   "cell_type": "code",
   "execution_count": 6,
   "id": "4d664561-caff-450a-988e-7ecce54c1ab3",
   "metadata": {},
   "outputs": [],
   "source": [
    "def get_qubit_op(dist):\n",
    "    driver = PySCFDriver(atom=\"Li .0 .0 .0; H .0 .0 \" + str(dist), unit=UnitsType.ANGSTROM, \n",
    "                         charge=0, spin=0, basis='sto3g')\n",
    "    molecule = driver.run()\n",
    "    freeze_list = [0]\n",
    "    remove_list = [-3, -2]\n",
    "    repulsion_energy = molecule.nuclear_repulsion_energy\n",
    "    num_particles = molecule.num_alpha + molecule.num_beta\n",
    "    num_spin_orbitals = molecule.num_orbitals * 2\n",
    "    remove_list = [x % molecule.num_orbitals for x in remove_list]\n",
    "    freeze_list = [x % molecule.num_orbitals for x in freeze_list]\n",
    "    remove_list = [x - len(freeze_list) for x in remove_list]\n",
    "    remove_list += [x + molecule.num_orbitals - len(freeze_list)  for x in remove_list]\n",
    "    freeze_list += [x + molecule.num_orbitals for x in freeze_list]\n",
    "    ferOp = FermionicOperator(h1=molecule.one_body_integrals, h2=molecule.two_body_integrals)\n",
    "    ferOp, energy_shift = ferOp.fermion_mode_freezing(freeze_list)\n",
    "    num_spin_orbitals -= len(freeze_list)\n",
    "    num_particles -= len(freeze_list)\n",
    "    ferOp = ferOp.fermion_mode_elimination(remove_list)\n",
    "    num_spin_orbitals -= len(remove_list)\n",
    "    qubitOp = ferOp.mapping(map_type='parity', threshold=0.00000001)\n",
    "    qubitOp = Z2Symmetries.two_qubit_reduction(qubitOp, num_particles)\n",
    "    shift = energy_shift + repulsion_energy\n",
    "    return qubitOp, num_particles, num_spin_orbitals, shift"
   ]
  },
  {
   "cell_type": "code",
   "execution_count": 7,
   "id": "43b52bd1-4b91-4f7c-96de-c9c1ea07e469",
   "metadata": {},
   "outputs": [
    {
     "name": "stdout",
     "output_type": "stream",
     "text": [
      "Interatomic Distance: 0.5 VQE Result: -7.039673440923151 Exact Energy: [-7.03973252]\n",
      "Interatomic Distance: 0.6 VQE Result: -7.313308879951078 Exact Energy: [-7.31334583]\n",
      "Interatomic Distance: 0.7 VQE Result: -7.50088703552862 Exact Energy: [-7.50092209]\n",
      "Interatomic Distance: 0.8 VQE Result: -7.630945410037183 Exact Energy: [-7.63097825]\n",
      "Interatomic Distance: 0.9 VQE Result: -7.720781099404058 Exact Energy: [-7.72081241]\n",
      "Interatomic Distance: 1.0 VQE Result: -7.782211599758002 Exact Energy: [-7.7822424]\n",
      "Interatomic Distance: 1.1 VQE Result: -7.823568082044984 Exact Energy: [-7.82359928]\n",
      "Interatomic Distance: 1.2 VQE Result: -7.8506661327139895 Exact Energy: [-7.85069838]\n",
      "Interatomic Distance: 1.3 VQE Result: -7.867529586222178 Exact Energy: [-7.86756329]\n",
      "Interatomic Distance: 1.4 VQE Result: -7.876966254482491 Exact Energy: [-7.87700149]\n",
      "Interatomic Distance: 1.5 VQE Result: -7.880979506435381 Exact Energy: [-7.88101572]\n",
      "Interatomic Distance: 1.6 VQE Result: -7.881036617368813 Exact Energy: [-7.88107204]\n",
      "Interatomic Distance: 1.7 VQE Result: -7.878236969740291 Exact Energy: [-7.87826817]\n",
      "Interatomic Distance: 1.8 VQE Result: -7.873345218682234 Exact Energy: [-7.87344029]\n",
      "Interatomic Distance: 1.9 VQE Result: -7.867137509109725 Exact Energy: [-7.86723396]\n",
      "Interatomic Distance: 2.0 VQE Result: -7.860068377649393 Exact Energy: [-7.86015321]\n",
      "Interatomic Distance: 2.1 VQE Result: -7.8525352283366585 Exact Energy: [-7.85259583]\n",
      "Interatomic Distance: 2.2 VQE Result: -7.8448393863463775 Exact Energy: [-7.84487909]\n",
      "Interatomic Distance: 2.3 VQE Result: -7.83721270190038 Exact Energy: [-7.83725797]\n",
      "Interatomic Distance: 2.4 VQE Result: -7.8298532439681185 Exact Energy: [-7.829937]\n",
      "Interatomic Distance: 2.5 VQE Result: -7.82293029304772 Exact Energy: [-7.82307664]\n",
      "Interatomic Distance: 2.6 VQE Result: -7.816588439975134 Exact Energy: [-7.81679515]\n",
      "Interatomic Distance: 2.7 VQE Result: -7.8109343668835685 Exact Energy: [-7.81116828]\n",
      "Interatomic Distance: 2.8 VQE Result: -7.806014818521432 Exact Energy: [-7.80622956]\n",
      "Interatomic Distance: 2.9 VQE Result: -7.801736627985079 Exact Energy: [-7.8019736]\n",
      "Interatomic Distance: 3.0 VQE Result: -7.798083537230476 Exact Energy: [-7.79836343]\n",
      "Interatomic Distance: 3.1 VQE Result: -7.795060188144534 Exact Energy: [-7.79534045]\n",
      "Interatomic Distance: 3.2 VQE Result: -7.792367431135348 Exact Energy: [-7.79283481]\n",
      "Interatomic Distance: 3.3 VQE Result: -7.789686187823491 Exact Energy: [-7.79077401]\n",
      "Interatomic Distance: 3.4 VQE Result: -7.7873754340837795 Exact Energy: [-7.7890889]\n",
      "Interatomic Distance: 3.5 VQE Result: -7.785627447065236 Exact Energy: [-7.78771697]\n",
      "Interatomic Distance: 3.6 VQE Result: -7.784375121246332 Exact Energy: [-7.78660376]\n",
      "Interatomic Distance: 3.7 VQE Result: -7.78349598965598 Exact Energy: [-7.78570291]\n",
      "Interatomic Distance: 3.8 VQE Result: -7.782885672461894 Exact Energy: [-7.78497559]\n",
      "Interatomic Distance: 3.9 VQE Result: -7.7824666791615265 Exact Energy: [-7.78438961]\n",
      "All energies have been calculated\n"
     ]
    }
   ],
   "source": [
    "backend = BasicAer.get_backend(\"statevector_simulator\")\n",
    "distances = np.arange(0.5, 4.0, 0.1)\n",
    "exact_energies = []\n",
    "vqe_energies = []\n",
    "optimizer = SLSQP(maxiter=5)\n",
    "for dist in distances:\n",
    "    qubitOp, num_particles, num_spin_orbitals, shift = get_qubit_op(dist)\n",
    "    result = NumPyEigensolver(qubitOp).run()\n",
    "    exact_energies.append(np.real(result.eigenvalues) + shift)\n",
    "    initial_state = HartreeFock(\n",
    "        num_spin_orbitals,\n",
    "        num_particles,\n",
    "        qubit_mapping='parity'\n",
    "    ) \n",
    "    var_form = UCCSD(\n",
    "        num_orbitals=num_spin_orbitals,\n",
    "        num_particles=num_particles,\n",
    "        initial_state=initial_state,\n",
    "        qubit_mapping='parity'\n",
    "    )\n",
    "    vqe = VQE(qubitOp, var_form, optimizer)\n",
    "    vqe_result = np.real(vqe.run(backend)['eigenvalue'] + shift)\n",
    "    vqe_energies.append(vqe_result)\n",
    "    print(\"Interatomic Distance:\", np.round(dist, 2), \"VQE Result:\", vqe_result, \"Exact Energy:\", exact_energies[-1])\n",
    "    \n",
    "print(\"All energies have been calculated\")"
   ]
  },
  {
   "cell_type": "code",
   "execution_count": 8,
   "id": "6293fb98-d319-4009-9a5f-2bb76268bc5d",
   "metadata": {},
   "outputs": [
    {
     "data": {
      "image/png": "[encoded data removed]",
      "text/plain": [
       "<Figure size 432x288 with 1 Axes>"
      ]
     },
     "metadata": {
      "needs_background": "light"
     },
     "output_type": "display_data"
    }
   ],
   "source": [
    "plt.plot(distances, exact_energies, label=\"Exact Energy\")\n",
    "plt.plot(distances, vqe_energies, label=\"VQE Energy\")\n",
    "plt.xlabel('Atomic distance (Angstrom)')\n",
    "plt.ylabel('Energy')\n",
    "plt.legend()\n",
    "plt.show()"
   ]
  },
  {
   "cell_type": "code",
   "execution_count": 9,
   "id": "0580f8ca-b6fa-4448-acac-1f78cfb1c22f",
   "metadata": {},
   "outputs": [],
   "source": [
    "driver = PySCFDriver(atom='H .0 .0 -0.3625; H .0 .0 0.3625', unit=UnitsType.ANGSTROM, charge=0, spin=0, basis='sto3g')\n",
    "molecule = driver.run()\n",
    "num_particles = molecule.num_alpha + molecule.num_beta\n",
    "qubitOp = FermionicOperator(h1=molecule.one_body_integrals, h2=molecule.two_body_integrals).mapping(map_type='parity')\n",
    "qubitOp = Z2Symmetries.two_qubit_reduction(qubitOp, num_particles)"
   ]
  },
  {
   "cell_type": "code",
   "execution_count": 10,
   "id": "8142332c-6819-490b-a36e-55d0496ec938",
   "metadata": {},
   "outputs": [
    {
     "name": "stderr",
     "output_type": "stream",
     "text": [
      "/tmp/ipykernel_98/1773007009.py:6: DeprecationWarning: Passing BackendProperties instead of a \"backend\" object has been deprecated as of qiskit-aer 0.10.0 and will be removed no earlier than 3 months from that release date. Duration dependent delay relaxation noise requires a backend object.\n",
      "  noise_model = NoiseModel.from_backend(device.properties())\n"
     ]
    }
   ],
   "source": [
    "IBMQ.load_account()\n",
    "provider = IBMQ.get_provider(hub='ibm-q')\n",
    "backend = Aer.get_backend(\"qasm_simulator\")\n",
    "device = provider.get_backend(\"ibmq_lima\")\n",
    "coupling_map = device.configuration().coupling_map\n",
    "noise_model = NoiseModel.from_backend(device.properties())\n",
    "quantum_instance = QuantumInstance(backend=backend, \n",
    "                                   shots=8192, \n",
    "                                   noise_model=noise_model, \n",
    "                                   coupling_map=coupling_map,\n",
    "                                   measurement_error_mitigation_cls=CompleteMeasFitter,\n",
    "                                   cals_matrix_refresh_period=30)"
   ]
  },
  {
   "cell_type": "code",
   "execution_count": 11,
   "id": "ba90fadb-d9e6-47f0-a18c-2f69a4dd8e36",
   "metadata": {},
   "outputs": [
    {
     "name": "stdout",
     "output_type": "stream",
     "text": [
      "Exact Result: [-1.13722138]\n",
      "VQE Result: -1.104858566439199\n"
     ]
    }
   ],
   "source": [
    "exact_solution = NumPyEigensolver(qubitOp).run()\n",
    "print(\"Exact Result:\", np.real(exact_solution.eigenvalues) + molecule.nuclear_repulsion_energy)\n",
    "optimizer = SPSA(maxiter=100)\n",
    "var_form = EfficientSU2(qubitOp.num_qubits, entanglement=\"linear\")\n",
    "vqe = VQE(qubitOp, var_form, optimizer=optimizer)\n",
    "ret = vqe.run(quantum_instance)\n",
    "vqe_result = np.real(ret['eigenvalue']+ molecule.nuclear_repulsion_energy)\n",
    "print(\"VQE Result:\", vqe_result)"
   ]
  }
 ],
 "metadata": {
  "kernelspec": {
   "display_name": "Qiskit v0.35.0 (ipykernel)",
   "language": "python",
   "name": "python3"
  },
  "language_info": {
   "codemirror_mode": {
    "name": "ipython",
    "version": 3
   },
   "file_extension": ".py",
   "mimetype": "text/x-python",
   "name": "python",
   "nbconvert_exporter": "python",
   "pygments_lexer": "ipython3",
   "version": "3.8.13"
  },
  "widgets": {
   "application/vnd.jupyter.widget-state+json": {
    "state": {},
    "version_major": 2,
    "version_minor": 0
   }
  }
 },
 "nbformat": 4,
 "nbformat_minor": 5
}
